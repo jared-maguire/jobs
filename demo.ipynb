{
 "cells": [
  {
   "attachments": {},
   "cell_type": "markdown",
   "metadata": {},
   "source": [
    "# sk8s: Simple Kubernetes in python\n",
    "\n",
    "Here is a demo of the `sk8s` library, which exposes the primary functions of kubernetes as a python API.\n",
    "\n",
    "- Run python lambdas as k8s Jobs.\n",
    "- Implement workflows comprised of interdependent Jobs as simple python functions.\n",
    "- Create and destroy k8s Volumes, directly or via Jobs and workflows.\n",
    "- Run python lambdas as k8s Services, e.g. Flask apps."
   ]
  },
  {
   "attachments": {},
   "cell_type": "markdown",
   "metadata": {},
   "source": [
    "# Prerequesites\n",
    "- Access to a kubernetes cluster. This demo is routinely run on both GKE, and Docker Desktop's local k8s cluster. If `kubectl get all` works, you're probably all set.\n",
    "- `sk8s` module installed in your environment. `pip install -e .` in the root of this repo is how I install it. "
   ]
  },
  {
   "attachments": {},
   "cell_type": "markdown",
   "metadata": {},
   "source": [
    "# sk8s Demo"
   ]
  },
  {
   "cell_type": "code",
   "execution_count": 13,
   "metadata": {},
   "outputs": [],
   "source": [
    "import sk8s"
   ]
  },
  {
   "attachments": {},
   "cell_type": "markdown",
   "metadata": {},
   "source": [
    "### Run a job and collect the result"
   ]
  },
  {
   "cell_type": "code",
   "execution_count": 14,
   "metadata": {},
   "outputs": [
    {
     "name": "stdout",
     "output_type": "stream",
     "text": [
      "Result should be 'Hooray', result is 'Hooray'\n"
     ]
    }
   ],
   "source": [
    "result = sk8s.wait(sk8s.run(lambda: \"Hooray\"), timeout=500)\n",
    "assert(result==\"Hooray\")\n",
    "print(f\"Result should be 'Hooray', result is '{result}'\")"
   ]
  },
  {
   "attachments": {},
   "cell_type": "markdown",
   "metadata": {},
   "source": [
    "### Run many jobs via map and collect the results"
   ]
  },
  {
   "cell_type": "code",
   "execution_count": 15,
   "metadata": {},
   "outputs": [
    {
     "name": "stdout",
     "output_type": "stream",
     "text": [
      "results should be [0,2,4], results are [0, 2, 4]\n"
     ]
    }
   ],
   "source": [
    "results = sk8s.map(lambda i: i*2, (0,1,2))\n",
    "assert(tuple(results) == (0,2,4))\n",
    "print(f\"results should be [0,2,4], results are {results}\")"
   ]
  },
  {
   "attachments": {},
   "cell_type": "markdown",
   "metadata": {},
   "source": [
    "### Execute a simple workflow"
   ]
  },
  {
   "cell_type": "code",
   "execution_count": 16,
   "metadata": {},
   "outputs": [
    {
     "name": "stdout",
     "output_type": "stream",
     "text": [
      "result should be 3, result is 3\n"
     ]
    }
   ],
   "source": [
    "def wf():\n",
    "    jobs1 = sk8s.map(lambda i: i, range(3), asynchro=True)\n",
    "    return sk8s.wait(sk8s.run(lambda inputs: sum(inputs),\n",
    "                              map(sk8s.wait, jobs1),\n",
    "                              name=\"job2-{s}\",\n",
    "                              asynchro=True),\n",
    "                     timeout=500)\n",
    "result = sk8s.wait(sk8s.run(wf, name=\"wf-{s}\"), timeout=500)\n",
    "assert(result == 3)\n",
    "print(f\"result should be 3, result is {result}\")"
   ]
  },
  {
   "attachments": {},
   "cell_type": "markdown",
   "metadata": {},
   "source": [
    "### Create a volume, and use it in a workflow"
   ]
  },
  {
   "cell_type": "code",
   "execution_count": 17,
   "metadata": {},
   "outputs": [
    {
     "name": "stdout",
     "output_type": "stream",
     "text": [
      "result should be \"hey\", result is \"hey\"\n"
     ]
    }
   ],
   "source": [
    "def wf():\n",
    "    import json\n",
    "    volume = sk8s.create_volume(\"10Mi\", accessModes=[\"ReadWriteOnce\"])\n",
    "\n",
    "    def func1():\n",
    "        with open(f\"/mnt/{volume}/test.json\", \"w\") as fp:\n",
    "            json.dump(\"hey\", fp)\n",
    "\n",
    "    def func2():\n",
    "        with open(f\"/mnt/{volume}/test.json\") as fp:\n",
    "            return json.load(fp)\n",
    "\n",
    "    sk8s.wait(sk8s.run(func1, volumes=[volume]))\n",
    "    result = sk8s.wait(sk8s.run(func2, volumes=[volume]))\n",
    "\n",
    "    sk8s.delete_volume(volume)\n",
    "                              \n",
    "    return result\n",
    "\n",
    "result = wf()\n",
    "assert(result == \"hey\")\n",
    "print(f'result should be \"hey\", result is \"{result}\"')"
   ]
  }
 ],
 "metadata": {
  "kernelspec": {
   "display_name": "jobs",
   "language": "python",
   "name": "python3"
  },
  "language_info": {
   "codemirror_mode": {
    "name": "ipython",
    "version": 3
   },
   "file_extension": ".py",
   "mimetype": "text/x-python",
   "name": "python",
   "nbconvert_exporter": "python",
   "pygments_lexer": "ipython3",
   "version": "3.10.10"
  },
  "orig_nbformat": 4
 },
 "nbformat": 4,
 "nbformat_minor": 2
}
