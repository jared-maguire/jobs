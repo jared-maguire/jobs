{
 "cells": [
  {
   "cell_type": "code",
   "execution_count": 1,
   "metadata": {},
   "outputs": [],
   "source": [
    "import sk8s"
   ]
  },
  {
   "cell_type": "code",
   "execution_count": 5,
   "metadata": {},
   "outputs": [],
   "source": [
    "job = sk8s.run(lambda x: dict(input=x, result=x*x), 5)"
   ]
  },
  {
   "cell_type": "code",
   "execution_count": 6,
   "metadata": {},
   "outputs": [
    {
     "data": {
      "text/plain": [
       "'job-gpwxv'"
      ]
     },
     "execution_count": 6,
     "metadata": {},
     "output_type": "execute_result"
    }
   ],
   "source": [
    "job"
   ]
  },
  {
   "cell_type": "code",
   "execution_count": 7,
   "metadata": {},
   "outputs": [
    {
     "data": {
      "text/plain": [
       "{'input': 5, 'result': 25}"
      ]
     },
     "execution_count": 7,
     "metadata": {},
     "output_type": "execute_result"
    }
   ],
   "source": [
    "result = sk8s.wait(job)\n",
    "result"
   ]
  },
  {
   "cell_type": "code",
   "execution_count": 8,
   "metadata": {},
   "outputs": [
    {
     "name": "stdout",
     "output_type": "stream",
     "text": [
      "job-dytsg\n"
     ]
    },
    {
     "data": {
      "text/plain": [
       "[10, 25]"
      ]
     },
     "execution_count": 8,
     "metadata": {},
     "output_type": "execute_result"
    }
   ],
   "source": [
    "def workflow(x):\n",
    "    job1 = sk8s.run(lambda x: x+x, x)\n",
    "    job2 = sk8s.run(lambda x: x*x, x)\n",
    "    results = sk8s.wait([job1, job2])\n",
    "    return results\n",
    "\n",
    "job = sk8s.run(workflow, 5)\n",
    "print(job)\n",
    "\n",
    "result = sk8s.wait(job)\n",
    "result"
   ]
  },
  {
   "cell_type": "code",
   "execution_count": 10,
   "metadata": {},
   "outputs": [
    {
     "name": "stderr",
     "output_type": "stream",
     "text": [
      "#0 building with \"default\" instance using docker driver\n",
      "\n",
      "#1 [internal] load .dockerignore\n",
      "#1 transferring context: 2B done\n",
      "#1 DONE 0.0s\n",
      "\n",
      "#2 [internal] load build definition from Dockerfile\n",
      "#2 transferring dockerfile: 302B done\n",
      "#2 DONE 0.1s\n",
      "\n",
      "#3 resolve image config for docker.io/docker/dockerfile:1\n",
      "#3 DONE 0.4s\n",
      "\n",
      "#4 docker-image://docker.io/docker/dockerfile:1@sha256:865e5dd094beca432e8c0a1d5e1c465db5f998dca4e439981029b3b81fb39ed5\n",
      "#4 CACHED\n",
      "\n",
      "#5 [internal] load metadata for 901094524821.dkr.ecr.us-west-2.amazonaws.com/jobs:latest\n",
      "#5 DONE 0.0s\n",
      "\n",
      "#6 [1/5] FROM 901094524821.dkr.ecr.us-west-2.amazonaws.com/jobs:latest\n",
      "#6 DONE 0.0s\n",
      "\n",
      "#7 [2/5] WORKDIR /app\n",
      "#7 CACHED\n",
      "\n",
      "#8 [3/5] RUN conda config --add channels bioconda\n",
      "#8 CACHED\n",
      "\n",
      "#9 [4/5] RUN conda install -y  pysam\n",
      "#9 CACHED\n",
      "\n",
      "#10 [5/5] RUN pip install  tqdm\n",
      "#10 CACHED\n",
      "\n",
      "#11 exporting to image\n",
      "#11 exporting layers done\n",
      "#11 writing image sha256:56dcdebd663bcc4465c9266f53829615768bb66be2e157187070c81852392e00 done\n",
      "#11 naming to 901094524821.dkr.ecr.us-west-2.amazonaws.com/sk8s_demo done\n",
      "#11 DONE 0.0s\n",
      "\n",
      "An error occurred (RepositoryAlreadyExistsException) when calling the CreateRepository operation: The repository with name 'sk8s_demo' already exists in the registry with id '901094524821'\n"
     ]
    },
    {
     "name": "stdout",
     "output_type": "stream",
     "text": [
      "Using default tag: latest\n",
      "The push refers to repository [901094524821.dkr.ecr.us-west-2.amazonaws.com/sk8s_demo]\n",
      "dcafcb05fddc: Preparing\n",
      "658554c76a2e: Preparing\n",
      "07f66b563eda: Preparing\n",
      "5f70bf18a086: Preparing\n",
      "376a4fc3913a: Preparing\n",
      "9880b696a5f3: Preparing\n",
      "1f48f668fc50: Preparing\n",
      "9880b696a5f3: Waiting\n",
      "37b8b904a15a: Preparing\n",
      "1f48f668fc50: Waiting\n",
      "c02cebc3d25e: Preparing\n",
      "23656654ba71: Preparing\n",
      "37b8b904a15a: Waiting\n",
      "9d1ebe9fee37: Preparing\n",
      "957b99696dec: Preparing\n",
      "c02cebc3d25e: Waiting\n",
      "c85adf7b648a: Preparing\n",
      "f0b718973bb1: Preparing\n",
      "087401788472: Preparing\n",
      "23656654ba71: Waiting\n",
      "55cf745e5522: Preparing\n",
      "957b99696dec: Waiting\n",
      "01ffd81f09d7: Preparing\n",
      "9d1ebe9fee37: Waiting\n",
      "ea83bf690139: Preparing\n",
      "c85adf7b648a: Waiting\n",
      "ed6fe2783ef4: Preparing\n",
      "98b5f35ea9d3: Preparing\n",
      "f0b718973bb1: Waiting\n",
      "55cf745e5522: Waiting\n",
      "01ffd81f09d7: Waiting\n",
      "ea83bf690139: Waiting\n",
      "ed6fe2783ef4: Waiting\n",
      "98b5f35ea9d3: Waiting\n",
      "07f66b563eda: Pushed\n",
      "dcafcb05fddc: Pushed\n",
      "5f70bf18a086: Pushed\n",
      "9880b696a5f3: Pushed\n",
      "376a4fc3913a: Pushed\n",
      "37b8b904a15a: Pushed\n",
      "1f48f668fc50: Pushed\n",
      "23656654ba71: Pushed\n",
      "c85adf7b648a: Pushed\n",
      "658554c76a2e: Pushed\n",
      "c02cebc3d25e: Pushed\n",
      "f0b718973bb1: Pushed\n",
      "9d1ebe9fee37: Pushed\n",
      "55cf745e5522: Pushed\n",
      "087401788472: Pushed\n",
      "ed6fe2783ef4: Pushed\n",
      "01ffd81f09d7: Pushed\n",
      "98b5f35ea9d3: Pushed\n",
      "957b99696dec: Pushed\n",
      "ea83bf690139: Pushed\n",
      "latest: digest: sha256:9879236d0781e2e576000e4392e17f2af6098bfe5d5f5478fef152d56b91710d size: 4530\n"
     ]
    },
    {
     "data": {
      "text/plain": [
       "'901094524821.dkr.ecr.us-west-2.amazonaws.com/sk8s_demo'"
      ]
     },
     "execution_count": 10,
     "metadata": {},
     "output_type": "execute_result"
    }
   ],
   "source": [
    "image = sk8s.docker_build('sk8s_demo', conda=[\"pysam\"], channels=[\"bioconda\"], pip=[\"tqdm\"])\n",
    "image"
   ]
  },
  {
   "cell_type": "code",
   "execution_count": 11,
   "metadata": {},
   "outputs": [
    {
     "name": "stdout",
     "output_type": "stream",
     "text": [
      "job-foerk\n"
     ]
    },
    {
     "data": {
      "text/plain": [
       "'/opt/conda/lib/python3.11/site-packages/pysam/__init__.py'"
      ]
     },
     "execution_count": 11,
     "metadata": {},
     "output_type": "execute_result"
    }
   ],
   "source": [
    "def workflow(x):\n",
    "    import pysam\n",
    "    return pysam.__file__\n",
    "\n",
    "job = sk8s.run(workflow, 5, image=image)\n",
    "print(job)\n",
    "result = sk8s.wait(job)\n",
    "result"
   ]
  }
 ],
 "metadata": {
  "kernelspec": {
   "display_name": "seq",
   "language": "python",
   "name": "python3"
  },
  "language_info": {
   "codemirror_mode": {
    "name": "ipython",
    "version": 3
   },
   "file_extension": ".py",
   "mimetype": "text/x-python",
   "name": "python",
   "nbconvert_exporter": "python",
   "pygments_lexer": "ipython3",
   "version": "3.11.10"
  }
 },
 "nbformat": 4,
 "nbformat_minor": 2
}
