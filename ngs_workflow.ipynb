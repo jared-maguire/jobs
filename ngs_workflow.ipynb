{
 "cells": [
  {
   "cell_type": "code",
   "execution_count": 12,
   "metadata": {},
   "outputs": [],
   "source": [
    "import sk8s"
   ]
  },
  {
   "cell_type": "code",
   "execution_count": 13,
   "metadata": {},
   "outputs": [],
   "source": [
    "image = sk8s.docker_build(image_name=\"ngs-1\",\n",
    "                          conda=[\"bwa\", \"gatk4\", \"samtools\", \"google-cloud-sdk\"],\n",
    "                          channels=[\"conda-forge\", \"bioconda\"],\n",
    "                          pip=[\"numpy\", \"scipy\", \"matplotlib\", \"pandas\"],\n",
    "                          additional_config=\"RUN apt-get install -y gcc python3-dev python3-setuptools && pip3 uninstall crcmod && pip3 install --no-cache-dir -U crcmod\")\n",
    "    \n",
    "image"
   ]
  },
  {
   "cell_type": "code",
   "execution_count": null,
   "metadata": {},
   "outputs": [],
   "source": [
    "# Create a volume to store the reference\n",
    "reference_volume = sk8s.create_volume(\"100Gi\", name=\"reference-volume\")\n",
    "reference_volume"
   ]
  },
  {
   "cell_type": "code",
   "execution_count": null,
   "metadata": {},
   "outputs": [],
   "source": [
    "def sleep(n):\n",
    "    import time\n",
    "    time.sleep(n)\n",
    "\n",
    "sk8s.run(sleep, 3600, asynchro=True, image=image)"
   ]
  },
  {
   "cell_type": "code",
   "execution_count": null,
   "metadata": {},
   "outputs": [],
   "source": [
    "def populate_reference_volume(volume):\n",
    "    import subprocess\n",
    "\n",
    "    def run_silent(cmd):\n",
    "        return subprocess.run(cmd, check=True, shell=True,\n",
    "                              stdout=subprocess.PIPE,\n",
    "                              stderr=None)\n",
    "\n",
    "    #result = run_silent(f\"\"\"mkdir -p /mnt/{volume}/hg38/ && gsutil -m rsync -r gs://genomics-public-data/references/hg38/v0/ /mnt/{volume}/hg38/\"\"\")\n",
    "    result = run_silent(f\"\"\"mkdir -p /mnt/{volume}/hg38/\"\"\")\n",
    "    result = run_silent(f\"\"\"gsutil -m rsync -r  gs://jared-genome/ref/GRCh38/ /mnt/{volume}/hg38/\"\"\")\n",
    "    return \"OK\"\n",
    "\n",
    "result = sk8s.run(populate_reference_volume, reference_volume,\n",
    "                  volumes=[reference_volume],\n",
    "                  image=image,\n",
    "                  asynchro=False)"
   ]
  },
  {
   "cell_type": "code",
   "execution_count": null,
   "metadata": {},
   "outputs": [],
   "source": [
    "print(result)"
   ]
  },
  {
   "cell_type": "code",
   "execution_count": null,
   "metadata": {},
   "outputs": [],
   "source": [
    "def align(fq1, fq2, output_bam):\n",
    "    import subprocess\n",
    "    subprocess.run(f\"gsutil -m cp {fq1} ./fq1.fq\", check=True, shell=True, stdout=subprocess.PIPE, stderr=subprocess.PIPE)\n",
    "    subprocess.run(f\"gsutil -m cp {fq2} ./fq2.fq\", check=True, shell=True, stdout=subprocess.PIPE, stderr=subprocess.PIPE)\n",
    "    subprocess.run(f\"bwa mem {reference} fq1.fq fq2.fq | samtools sort > out.bam\", check=True, shell=True, stdout=subprocess.PIPE, stderr=subprocess.PIPE)\n",
    "    subprocess.run(f\"gsutil -m cp out.bam {output_bam}\", check=True, shell=True, stdout=subprocess.PIPE, stderr=subprocess.PIPE)"
   ]
  }
 ],
 "metadata": {
  "kernelspec": {
   "display_name": "jobs",
   "language": "python",
   "name": "python3"
  },
  "language_info": {
   "codemirror_mode": {
    "name": "ipython",
    "version": 3
   },
   "file_extension": ".py",
   "mimetype": "text/x-python",
   "name": "python",
   "nbconvert_exporter": "python",
   "pygments_lexer": "ipython3",
   "version": "3.10.10"
  },
  "orig_nbformat": 4
 },
 "nbformat": 4,
 "nbformat_minor": 2
}
