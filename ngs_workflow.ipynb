{
 "cells": [
  {
   "cell_type": "code",
   "execution_count": 1,
   "metadata": {},
   "outputs": [],
   "source": [
    "import sk8s"
   ]
  },
  {
   "cell_type": "code",
   "execution_count": 3,
   "metadata": {},
   "outputs": [
    {
     "data": {
      "text/plain": [
       "'gcr.io/jared-genome-analysis/ngs-1'"
      ]
     },
     "execution_count": 3,
     "metadata": {},
     "output_type": "execute_result"
    }
   ],
   "source": [
    "image = sk8s.docker_build(image_name=\"ngs-1\",\n",
    "                          conda=[\"bwa\", \"gatk4\", \"samtools\", \"google-cloud-sdk\"],\n",
    "                          channels=[\"conda-forge\", \"bioconda\"],\n",
    "                          pip=[\"numpy\", \"scipy\", \"matplotlib\", \"pandas\"])\n",
    "image"
   ]
  },
  {
   "cell_type": "code",
   "execution_count": 6,
   "metadata": {},
   "outputs": [
    {
     "name": "stdout",
     "output_type": "stream",
     "text": [
      "apiVersion: v1\n",
      "kind: PersistentVolumeClaim\n",
      "metadata:\n",
      "  name: reference_volume\n",
      "spec:\n",
      "  accessModes: ['ReadWriteMany']\n",
      "  storageClassName: standard-rwx\n",
      "  resources:\n",
      "   requests:\n",
      "    storage: 100Gi\n"
     ]
    }
   ],
   "source": [
    "# Create a volume to store the reference\n",
    "reference_volume = sk8s.create_volume(\"100Gi\", name=\"reference_volume\", dryrun=True)\n",
    "print(reference_volume)"
   ]
  },
  {
   "cell_type": "code",
   "execution_count": null,
   "metadata": {},
   "outputs": [],
   "source": [
    "def populate_reference_volume(volume):\n",
    "    import subprocess\n",
    "\n",
    "    def run_silent(cmd):\n",
    "        return subprocess.run(cmd, check=True, shell=True,\n",
    "                              stdout=subprocess.PIPE,\n",
    "                              stderr=subprocess.STDOUT)\n",
    "\n",
    "    result = run_silent(f\"gsutil -m rsync -n -r gs://genomics-public-data/references/hg38/v0/ /mnt/{reference_volume}/hg38/\")\n",
    "    return result.stdout\n",
    "\n",
    "result = sk8s.run(populate_reference_volume, reference_volume,\n",
    "                  volumes=[reference_volume], asynchro=False)"
   ]
  },
  {
   "cell_type": "code",
   "execution_count": null,
   "metadata": {},
   "outputs": [],
   "source": [
    "def align(fq1, fq2, output_bam):\n",
    "    import subprocess\n",
    "    subprocess.run(f\"gsutil -m cp {fq1} ./fq1.fq\", check=True, shell=True, stdout=subprocess.PIPE, stderr=subprocess.PIPE)\n",
    "    subprocess.run(f\"gsutil -m cp {fq2} ./fq2.fq\", check=True, shell=True, stdout=subprocess.PIPE, stderr=subprocess.PIPE)\n",
    "    subprocess.run(f\"bwa mem {reference} fq1.fq fq2.fq | samtools sort > out.bam\", check=True, shell=True, stdout=subprocess.PIPE, stderr=subprocess.PIPE)\n",
    "    subprocess.run(f\"gsutil -m cp out.bam {output_bam}\", check=True, shell=True, stdout=subprocess.PIPE, stderr=subprocess.PIPE)"
   ]
  }
 ],
 "metadata": {
  "kernelspec": {
   "display_name": "jobs",
   "language": "python",
   "name": "python3"
  },
  "language_info": {
   "codemirror_mode": {
    "name": "ipython",
    "version": 3
   },
   "file_extension": ".py",
   "mimetype": "text/x-python",
   "name": "python",
   "nbconvert_exporter": "python",
   "pygments_lexer": "ipython3",
   "version": "3.10.10"
  },
  "orig_nbformat": 4
 },
 "nbformat": 4,
 "nbformat_minor": 2
}
