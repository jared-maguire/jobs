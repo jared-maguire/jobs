{
 "cells": [
  {
   "cell_type": "code",
   "execution_count": 1,
   "metadata": {},
   "outputs": [],
   "source": [
    "import sk8s"
   ]
  },
  {
   "attachments": {},
   "cell_type": "markdown",
   "metadata": {},
   "source": [
    "## Set up the environment"
   ]
  },
  {
   "cell_type": "code",
   "execution_count": null,
   "metadata": {},
   "outputs": [],
   "source": [
    "image = sk8s.docker_build(image_name=\"ngs-1\",\n",
    "                          conda=[\"bwa\", \"gatk4\", \"samtools\", \"google-cloud-sdk\", \"bedtools\"],\n",
    "                          channels=[\"conda-forge\", \"bioconda\"],\n",
    "                          pip=[\"numpy\", \"scipy\", \"matplotlib\", \"pandas\"],\n",
    "                          additional_config=\"RUN apt-get install -y gcc python3-dev python3-setuptools && pip3 uninstall crcmod && pip3 install --no-cache-dir -U crcmod\")\n",
    "    \n",
    "image"
   ]
  },
  {
   "cell_type": "code",
   "execution_count": 2,
   "metadata": {},
   "outputs": [],
   "source": [
    "#image = \"gcr.io/jared-genome-analysis/ngs-1\"\n",
    "image = \"ngs-1\""
   ]
  },
  {
   "cell_type": "code",
   "execution_count": 3,
   "metadata": {},
   "outputs": [
    {
     "data": {
      "text/plain": [
       "'reference-volume'"
      ]
     },
     "execution_count": 3,
     "metadata": {},
     "output_type": "execute_result"
    }
   ],
   "source": [
    "# Create a volume to store the reference\n",
    "#reference_volume = sk8s.create_volume(\"100Gi\", name=\"reference-volume\")\n",
    "reference_volume = \"reference-volume\"\n",
    "reference_volume"
   ]
  },
  {
   "cell_type": "code",
   "execution_count": 4,
   "metadata": {},
   "outputs": [],
   "source": [
    "default_volumes={reference_volume: f\"/mnt/{reference_volume}\",\n",
    "                 \"gcs-creds\": f\"/root/.config/gcloud\"}"
   ]
  },
  {
   "cell_type": "code",
   "execution_count": null,
   "metadata": {},
   "outputs": [],
   "source": [
    "def populate_reference_volume(volume):\n",
    "    import subprocess\n",
    "\n",
    "    def run_silent(cmd):\n",
    "        return subprocess.run(cmd, check=True, shell=True,\n",
    "                              stdout=subprocess.PIPE,\n",
    "                              stderr=subprocess.PIPE)\n",
    "\n",
    "    #result = run_silent(f\"\"\"mkdir -p /mnt/{volume}/hg38/ && gsutil -m rsync -r gs://genomics-public-data/references/hg38/v0/ /mnt/{volume}/hg38/\"\"\")\n",
    "    result = run_silent(f\"\"\"mkdir -p /mnt/{volume}/hg38/\"\"\")\n",
    "    result = run_silent(f\"\"\"gsutil -m rsync -r  gs://jared-genome/ref/GRCh38/ /mnt/{volume}/hg38/\"\"\")\n",
    "    return \"OK\"\n",
    "\n",
    "#populate_reference_job = sk8s.run(populate_reference_volume, reference_volume,\n",
    "#                                  volumes=default_volumes,\n",
    "#                                  image=image,\n",
    "#                                  asynchro=True)\n",
    "#populate_reference_job"
   ]
  },
  {
   "cell_type": "code",
   "execution_count": 5,
   "metadata": {},
   "outputs": [],
   "source": [
    "def run(cmd):\n",
    "    import subprocess\n",
    "\n",
    "    result = subprocess.run(cmd,\n",
    "                            check=False,\n",
    "                            shell=True,\n",
    "                            stdout=subprocess.PIPE,\n",
    "                            stderr=subprocess.STDOUT,\n",
    "                            encoding=\"utf-8\")\n",
    "    if result.returncode == 0:\n",
    "        return result.stdout\n",
    "    else:\n",
    "        print(\"Error Running Command.\")\n",
    "        print(\"Command:\", cmd)\n",
    "        print(\"Log:\")\n",
    "        print(result.stdout)\n",
    "        raise subprocess.CalledProcessError(result.returncode, cmd=cmd, output=result.stdout)\n"
   ]
  },
  {
   "cell_type": "code",
   "execution_count": null,
   "metadata": {},
   "outputs": [],
   "source": [
    "from time import sleep\n",
    "sk8s.run(sleep, 3600, volumes=default_volumes, image=image)"
   ]
  },
  {
   "cell_type": "code",
   "execution_count": 15,
   "metadata": {},
   "outputs": [
    {
     "data": {
      "text/plain": [
       "'gs://jared-genome/sk8s/pipeline_test_1/jared_interleaved.fq'"
      ]
     },
     "execution_count": 15,
     "metadata": {},
     "output_type": "execute_result"
    }
   ],
   "source": [
    "def generate_fq_chunk(bam, region, output_fq):\n",
    "    import os\n",
    "\n",
    "    token = run(\"gcloud auth application-default print-access-token\").strip()\n",
    "    os.environ[\"GCS_OAUTH_TOKEN\"] = token\n",
    "\n",
    "    run(f\"samtools view -b {bam} {region} > ./in.bam\")\n",
    "    run(f\"samtools index in.bam\")\n",
    "    run(f\"samtools collate in.bam out\")\n",
    "    run(f\"samtools fastq -o out.fq out.bam\")\n",
    "    run(f\"gsutil cp out.fq {output_fq}\")\n",
    "\n",
    "    return output_fq\n",
    "\n",
    "\n",
    "def concatenate(input_files, output_file):\n",
    "    import os\n",
    "    run(\"mkdir ./data/\")\n",
    "    run(f\"gsutil -m cp {' '.join(input_files)} ./data/\")\n",
    "    local_input_files = [\"./data/\" + os.path.basename(f) for f in input_files]\n",
    "    run(f\"cat {' '.join(local_input_files)} > out\")\n",
    "    run(f\"gsutil cp out {output_file}\")\n",
    "    return output_file\n",
    "\n",
    "\n",
    "def generate_fq(bam, region_size, output_file):\n",
    "    import subprocess\n",
    "    cmd = f'bedtools makewindows -g /mnt/{reference_volume}/GRCh38/Homo_sapiens_assembly38.fasta.genome -w {region_size} | grep -vP \"_|HLA\"'\n",
    "\n",
    "    regions = [\"{}:{}-{}\".format(*(r.split(\"\\t\")))\n",
    "               for r in\n",
    "               run(cmd).strip().split(\"\\n\")]\n",
    "\n",
    "    jobs = [sk8s.run(generate_fq_chunk, bam, region, f\"gs://jared-genome/sk8s/pipeline_test_1/fastq/chunk_{idx}.fq\",\n",
    "                     image=image, volumes=default_volumes, asynchro=True)\n",
    "            for idx, region in enumerate(regions[0:3])]\n",
    "\n",
    "    fastqs = list(map(sk8s.wait, jobs))\n",
    "\n",
    "    return sk8s.run(concatenate, fastqs, output_file,\n",
    "                    image=image, volumes=default_volumes,\n",
    "                    asynchro=False)\n",
    "\n",
    "\n",
    "results = sk8s.run(generate_fq, \"gs://jared-genome/jared.bam\", int(1e6), \"gs://jared-genome/sk8s/pipeline_test_1/jared_interleaved.fq\",\n",
    "                   image=image,\n",
    "                   volumes=default_volumes,\n",
    "                   asynchro=False)\n",
    "results\n"
   ]
  },
  {
   "cell_type": "code",
   "execution_count": null,
   "metadata": {},
   "outputs": [],
   "source": [
    "sk8s.wait(populate_reference_job)\n",
    "sk8s.wait(collate_job)"
   ]
  },
  {
   "attachments": {},
   "cell_type": "markdown",
   "metadata": {},
   "source": [
    "## Define pipeline tasks"
   ]
  },
  {
   "cell_type": "code",
   "execution_count": 30,
   "metadata": {},
   "outputs": [],
   "source": [
    "def split_fastq(fastq, n_chunks, output_prefix):\n",
    "    import os\n",
    "\n",
    "    run(f\"gsutil cp {fastq} ./input.fq\")\n",
    "\n",
    "    os.mkdir(\"./output/\")\n",
    "    output_files = [f\"./output/chunk_{i}.fq\" for i in range(n_chunks)]\n",
    "    output_fds = [open(f, \"w\") for f in output_files]\n",
    "    current_output = 0\n",
    "    \n",
    "    with open(\"input.fq\") as fp:\n",
    "        while True:\n",
    "            name = fp.readline()\n",
    "            seq = fp.readline()\n",
    "            strand = fp.readline()\n",
    "            qual = fp.readline()\n",
    "            if name == \"\": break\n",
    "            print(name, seq, strand, qual, sep=\"\\n\", end=\"\", file=output_fds[current_output])\n",
    "    \n",
    "    [f.close() for f in output_fds]\n",
    "\n",
    "    results = []\n",
    "    for idx, file in enumerate(output_files):\n",
    "        results.append(f\"{output_prefix}{idx}\")\n",
    "        run(f\"gsutil cp {file} {output_prefix}{idx}\")\n",
    "\n",
    "    return results"
   ]
  },
  {
   "cell_type": "code",
   "execution_count": 23,
   "metadata": {},
   "outputs": [],
   "source": [
    "\n",
    "def align(fq, output_bam, reference, read_group):\n",
    "    import subprocess\n",
    "\n",
    "    def run_and_log(cmd):\n",
    "        proc = subprocess.run(cmd, check=True, shell=True, encoding=\"utf-8\",\n",
    "                              stdout=subprocess.PIPE, stderr=subprocess.PIPE)\n",
    "        return dict(cmd=cmd,\n",
    "                    returncode=proc.returncode,\n",
    "                    stdout=proc.stdout,\n",
    "                    stderr=proc.stderr)\n",
    "\n",
    "    results = []\n",
    "    results.append(run_and_log(f\"gsutil -m cp {fq} ./fq.fq\"))\n",
    "    results.append(run_and_log(f'bwa mem -p -R \"{read_group}\" {reference} fq.fq | samtools sort > out.bam'))\n",
    "    results.append(run_and_log(f\"samtools index out.bam\"))\n",
    "    results.append(run_and_log(f\"gsutil -m cp out.bam {output_bam}\"))\n",
    "    results.append(run_and_log(f\"gsutil -m cp out.bam.bai {output_bam}.bai\"))\n",
    "\n",
    "    return results\n"
   ]
  },
  {
   "cell_type": "code",
   "execution_count": 17,
   "metadata": {},
   "outputs": [],
   "source": [
    "\n",
    "def call_snps(reference, bam, roi, output_vcf):\n",
    "    import subprocess\n",
    "\n",
    "    def run_and_log(cmd):\n",
    "        proc = subprocess.run(cmd, check=True, shell=True, encoding=\"utf-8\",\n",
    "                              stdout=subprocess.PIPE, stderr=subprocess.PIPE)\n",
    "        return dict(cmd=cmd,\n",
    "                    returncode=proc.returncode,\n",
    "                    stdout=proc.stdout,\n",
    "                    stderr=proc.stderr)\n",
    "\n",
    "    region = \"%s:%d-%d\" % roi\n",
    "\n",
    "    results = []\n",
    "    results.append(run_and_log(f\"gsutil cp {bam} ./in.bam\"))\n",
    "    results.append(run_and_log(f\"gsutil cp {bam}.bai ./in.bam.bai\"))\n",
    "    results.append(run_and_log(f\"gatk HaplotypeCaller -R {reference} -I in.bam -O out.vcf -L {region}\"))\n",
    "    results.append(run_and_log(f\"gsutil cp out.vcf {output_vcf}\"))\n",
    "    return results"
   ]
  },
  {
   "attachments": {},
   "cell_type": "markdown",
   "metadata": {},
   "source": [
    "## Execute pipeline"
   ]
  },
  {
   "cell_type": "code",
   "execution_count": 27,
   "metadata": {},
   "outputs": [],
   "source": [
    "\n",
    "reference=f\"/mnt/{reference_volume}/hg38/Homo_sapiens_assembly38.fasta\"\n",
    "sample_name=\"jared\"\n",
    "read_group=f'@RG\\\\tID:{sample_name}\\\\tSM:{sample_name}\\\\tPL:ILLUMINA'\n",
    "ROI = (\"chr1\", 14674463, 14697776)\n",
    "#fq = \"gs://jared-genome/jared_interleaved.fq\"\n",
    "fq = \"gs://jared-genome/sk8s/pipeline_test_1/jared_interleaved.fq\"\n",
    "output_prefix = \"gs://jared-genome/sk8s/pipeline_test_1/\"\n",
    "output_bam = f\"{output_prefix}tiny.bam\"\n",
    "output_vcf = f\"{output_prefix}tiny.vcf\""
   ]
  },
  {
   "cell_type": "code",
   "execution_count": null,
   "metadata": {},
   "outputs": [],
   "source": [
    "fastqs = sk8s.run(split_fastq, fq, 10, f\"{output_prefix}fastq_chunks/chunk_\",\n",
    "                  image=image, volumes=default_volumes, asynchro=False)\n",
    "fastqs"
   ]
  },
  {
   "cell_type": "code",
   "execution_count": 28,
   "metadata": {},
   "outputs": [
    {
     "name": "stdout",
     "output_type": "stream",
     "text": [
      "🔥sk8s: job job-badas failed.\n",
      "---- job-badas-6szhs ----:\n",
      "Traceback (most recent call last):\n",
      "  File \"<string>\", line 15, in <module>\n",
      "  File \"<string>\", line 13, in <module>\n",
      "  File \"c:\\Users\\jared\\Desktop\\jobs\\sk8s\\jobs.py\", line 125, in <lambda>\n",
      "  File \"C:\\Users\\jared\\AppData\\Local\\Temp\\ipykernel_18500\\2845862637.py\", line 14, in align\n",
      "  File \"C:\\Users\\jared\\AppData\\Local\\Temp\\ipykernel_18500\\2845862637.py\", line 5, in run_and_log\n",
      "  File \"/opt/conda/lib/python3.10/subprocess.py\", line 526, in run\n",
      "    raise CalledProcessError(retcode, process.args,\n",
      "subprocess.CalledProcessError: Command 'bwa mem -p -R \"@RG\\tID:jared\\tSM:jared\\tPL:ILLUMINA\" /mnt/reference-volume/hg38/Homo_sapiens_assembly38.fasta fq.fq | samtools sort > out.bam' returned non-zero exit status 1.\n",
      "\n",
      "---- END job-badas-6szhs ----\n"
     ]
    },
    {
     "ename": "RuntimeError",
     "evalue": "sk8s: Job job-badas failed.",
     "output_type": "error",
     "traceback": [
      "\u001b[1;31m---------------------------------------------------------------------------\u001b[0m",
      "\u001b[1;31mRuntimeError\u001b[0m                              Traceback (most recent call last)",
      "Cell \u001b[1;32mIn[28], line 1\u001b[0m\n\u001b[1;32m----> 1\u001b[0m alignment_result \u001b[39m=\u001b[39m sk8s\u001b[39m.\u001b[39;49mrun(align, fq, output_bam, reference, read_group,\n\u001b[0;32m      2\u001b[0m                             image\u001b[39m=\u001b[39;49mimage, volumes\u001b[39m=\u001b[39;49mdefault_volumes,\n\u001b[0;32m      3\u001b[0m                             requests\u001b[39m=\u001b[39;49m{\u001b[39m\"\u001b[39;49m\u001b[39mmemory\u001b[39;49m\u001b[39m\"\u001b[39;49m: \u001b[39m\"\u001b[39;49m\u001b[39m8Gi\u001b[39;49m\u001b[39m\"\u001b[39;49m, \u001b[39m\"\u001b[39;49m\u001b[39mephemeral-storage\u001b[39;49m\u001b[39m\"\u001b[39;49m: \u001b[39m\"\u001b[39;49m\u001b[39m10Gi\u001b[39;49m\u001b[39m\"\u001b[39;49m, \u001b[39m\"\u001b[39;49m\u001b[39mcpu\u001b[39;49m\u001b[39m\"\u001b[39;49m: \u001b[39m\"\u001b[39;49m\u001b[39m1\u001b[39;49m\u001b[39m\"\u001b[39;49m},\n\u001b[0;32m      4\u001b[0m                             limits\u001b[39m=\u001b[39;49m{\u001b[39m\"\u001b[39;49m\u001b[39mmemory\u001b[39;49m\u001b[39m\"\u001b[39;49m: \u001b[39m\"\u001b[39;49m\u001b[39m8Gi\u001b[39;49m\u001b[39m\"\u001b[39;49m, \u001b[39m\"\u001b[39;49m\u001b[39mephemeral-storage\u001b[39;49m\u001b[39m\"\u001b[39;49m: \u001b[39m\"\u001b[39;49m\u001b[39m10Gi\u001b[39;49m\u001b[39m\"\u001b[39;49m},\n\u001b[0;32m      5\u001b[0m                             asynchro\u001b[39m=\u001b[39;49m\u001b[39mFalse\u001b[39;49;00m)\n\u001b[0;32m      6\u001b[0m alignment_result\n",
      "File \u001b[1;32mc:\\Users\\jared\\Desktop\\jobs\\sk8s\\jobs.py:164\u001b[0m, in \u001b[0;36mrun\u001b[1;34m(func, image, volumes, requests, limits, asynchro, timeout, job_template, imagePullPolicy, backoffLimit, name, test, dryrun, state, config, export_config, debug, *args)\u001b[0m\n\u001b[0;32m    162\u001b[0m     \u001b[39mreturn\u001b[39;00m job\n\u001b[0;32m    163\u001b[0m \u001b[39melse\u001b[39;00m:\n\u001b[1;32m--> 164\u001b[0m     \u001b[39mreturn\u001b[39;00m wait(job, timeout\u001b[39m=\u001b[39;49mtimeout)\n",
      "File \u001b[1;32mc:\\Users\\jared\\Desktop\\jobs\\sk8s\\jobs.py:201\u001b[0m, in \u001b[0;36mwait\u001b[1;34m(job_name, timeout, verbose, delete, polling_interval)\u001b[0m\n\u001b[0;32m    199\u001b[0m     \u001b[39mfor\u001b[39;00m pod_name, log \u001b[39min\u001b[39;00m log_data\u001b[39m.\u001b[39mitems():\n\u001b[0;32m    200\u001b[0m         \u001b[39mprint\u001b[39m(\u001b[39mf\u001b[39m\u001b[39m\"\u001b[39m\u001b[39m---- \u001b[39m\u001b[39m{\u001b[39;00mpod_name\u001b[39m}\u001b[39;00m\u001b[39m ----:\u001b[39m\u001b[39m\"\u001b[39m, log, \u001b[39mf\u001b[39m\u001b[39m\"\u001b[39m\u001b[39m---- END \u001b[39m\u001b[39m{\u001b[39;00mpod_name\u001b[39m}\u001b[39;00m\u001b[39m ----\u001b[39m\u001b[39m\"\u001b[39m, sep\u001b[39m=\u001b[39m\u001b[39m\"\u001b[39m\u001b[39m\\n\u001b[39;00m\u001b[39m\"\u001b[39m, flush\u001b[39m=\u001b[39m\u001b[39mTrue\u001b[39;00m) \u001b[39m#, file=sys.stderr)\u001b[39;00m\n\u001b[1;32m--> 201\u001b[0m     \u001b[39mraise\u001b[39;00m \u001b[39mRuntimeError\u001b[39;00m(\u001b[39mf\u001b[39m\u001b[39m\"\u001b[39m\u001b[39msk8s: Job \u001b[39m\u001b[39m{\u001b[39;00mjob_name\u001b[39m}\u001b[39;00m\u001b[39m failed.\u001b[39m\u001b[39m\"\u001b[39m)\n\u001b[0;32m    202\u001b[0m \u001b[39mif\u001b[39;00m \u001b[39m\"\u001b[39m\u001b[39msucceeded\u001b[39m\u001b[39m\"\u001b[39m \u001b[39mnot\u001b[39;00m \u001b[39min\u001b[39;00m result[\u001b[39m\"\u001b[39m\u001b[39mstatus\u001b[39m\u001b[39m\"\u001b[39m]:\n\u001b[0;32m    203\u001b[0m     time\u001b[39m.\u001b[39msleep(polling_interval)\n",
      "\u001b[1;31mRuntimeError\u001b[0m: sk8s: Job job-badas failed."
     ]
    }
   ],
   "source": [
    "\n",
    "alignment_result = sk8s.run(align, fq, output_bam, reference, read_group,\n",
    "                            image=image, volumes=default_volumes,\n",
    "                            requests={\"memory\": \"8Gi\", \"ephemeral-storage\": \"10Gi\", \"cpu\": \"1\"},\n",
    "                            limits={\"memory\": \"8Gi\", \"ephemeral-storage\": \"10Gi\"},\n",
    "                            asynchro=False)\n",
    "alignment_result"
   ]
  },
  {
   "cell_type": "code",
   "execution_count": null,
   "metadata": {},
   "outputs": [],
   "source": [
    "snp_result = sk8s.run(call_snps, reference, output_bam, ROI, output_vcf,\n",
    "                       image=image, asynchro=False, volumes=[reference_volume],\n",
    "                       requests={\"memory\": \"8Gi\", \"ephemeral-storage\": \"10Gi\", \"cpu\": \"2\"},\n",
    "                       limits={\"memory\": \"8Gi\", \"ephemeral-storage\": \"10Gi\"})\n",
    "snp_result"
   ]
  },
  {
   "cell_type": "code",
   "execution_count": null,
   "metadata": {},
   "outputs": [],
   "source": [
    "import subprocess\n",
    "print(subprocess.run(f\"gsutil cat {output_vcf} | grep -v '^#' | head -n10\",\n",
    "               shell=True, stdout=subprocess.PIPE, encoding=\"utf-8\").stdout)"
   ]
  }
 ],
 "metadata": {
  "kernelspec": {
   "display_name": "jobs",
   "language": "python",
   "name": "python3"
  },
  "language_info": {
   "codemirror_mode": {
    "name": "ipython",
    "version": 3
   },
   "file_extension": ".py",
   "mimetype": "text/x-python",
   "name": "python",
   "nbconvert_exporter": "python",
   "pygments_lexer": "ipython3",
   "version": "3.10.10"
  },
  "orig_nbformat": 4
 },
 "nbformat": 4,
 "nbformat_minor": 2
}
