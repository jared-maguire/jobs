{
 "cells": [
  {
   "cell_type": "code",
   "execution_count": 1,
   "metadata": {},
   "outputs": [],
   "source": [
    "import sk8s"
   ]
  },
  {
   "attachments": {},
   "cell_type": "markdown",
   "metadata": {},
   "source": [
    "## Set up the environment"
   ]
  },
  {
   "cell_type": "code",
   "execution_count": 2,
   "metadata": {},
   "outputs": [
    {
     "data": {
      "text/plain": [
       "'gcr.io/jared-genome-analysis/ngs-1'"
      ]
     },
     "execution_count": 2,
     "metadata": {},
     "output_type": "execute_result"
    }
   ],
   "source": [
    "image = sk8s.docker_build(image_name=\"ngs-1\",\n",
    "                          conda=[\"bwa\", \"gatk4\", \"samtools\", \"google-cloud-sdk\"],\n",
    "                          channels=[\"conda-forge\", \"bioconda\"],\n",
    "                          pip=[\"numpy\", \"scipy\", \"matplotlib\", \"pandas\"],\n",
    "                          additional_config=\"RUN apt-get install -y gcc python3-dev python3-setuptools && pip3 uninstall crcmod && pip3 install --no-cache-dir -U crcmod\")\n",
    "    \n",
    "image"
   ]
  },
  {
   "cell_type": "code",
   "execution_count": 3,
   "metadata": {},
   "outputs": [],
   "source": [
    "# Create a volume to store the reference\n",
    "#reference_volume = sk8s.create_volume(\"100Gi\", name=\"reference-volume\")\n",
    "reference_volume = \"reference-volume\"\n",
    "#reference_volume"
   ]
  },
  {
   "cell_type": "code",
   "execution_count": 4,
   "metadata": {},
   "outputs": [],
   "source": [
    "def populate_reference_volume(volume):\n",
    "    import subprocess\n",
    "\n",
    "    def run_silent(cmd):\n",
    "        return subprocess.run(cmd, check=True, shell=True,\n",
    "                              stdout=subprocess.PIPE,\n",
    "                              stderr=subprocess.PIPE)\n",
    "\n",
    "    #result = run_silent(f\"\"\"mkdir -p /mnt/{volume}/hg38/ && gsutil -m rsync -r gs://genomics-public-data/references/hg38/v0/ /mnt/{volume}/hg38/\"\"\")\n",
    "    result = run_silent(f\"\"\"mkdir -p /mnt/{volume}/hg38/\"\"\")\n",
    "    result = run_silent(f\"\"\"gsutil -m rsync -r  gs://jared-genome/ref/GRCh38/ /mnt/{volume}/hg38/\"\"\")\n",
    "    return \"OK\"\n",
    "\n",
    "result = sk8s.run(populate_reference_volume, reference_volume,\n",
    "                  volumes=[reference_volume],\n",
    "                  image=image,\n",
    "                  asynchro=False)\n",
    "print(result)"
   ]
  },
  {
   "attachments": {},
   "cell_type": "markdown",
   "metadata": {},
   "source": [
    "## Define pipeline tasks"
   ]
  },
  {
   "cell_type": "code",
   "execution_count": 6,
   "metadata": {},
   "outputs": [],
   "source": [
    "\n",
    "def align(fq1, fq2, output_bam, reference, read_group):\n",
    "    import subprocess\n",
    "\n",
    "    def run_and_log(cmd):\n",
    "        proc = subprocess.run(cmd, check=True, shell=True, encoding=\"utf-8\",\n",
    "                              stdout=subprocess.PIPE, stderr=subprocess.PIPE)\n",
    "        return dict(cmd=cmd,\n",
    "                    returncode=proc.returncode,\n",
    "                    stdout=proc.stdout,\n",
    "                    stderr=proc.stderr)\n",
    "\n",
    "    results = []\n",
    "    results.append(run_and_log(f\"gsutil -m cp {fq1} ./fq1.fq\"))\n",
    "    results.append(run_and_log(f\"gsutil -m cp {fq2} ./fq2.fq\"))\n",
    "    results.append(run_and_log(f'bwa mem -R \"{read_group}\" {reference} fq1.fq fq2.fq | samtools sort > out.bam'))\n",
    "    results.append(run_and_log(f\"samtools index out.bam\"))\n",
    "    results.append(run_and_log(f\"gsutil -m cp out.bam {output_bam}\"))\n",
    "    results.append(run_and_log(f\"gsutil -m cp out.bam.bai {output_bam}.bai\"))\n",
    "\n",
    "    return results\n"
   ]
  },
  {
   "cell_type": "code",
   "execution_count": 7,
   "metadata": {},
   "outputs": [],
   "source": [
    "\n",
    "def call_snps(reference, bam, roi, output_vcf):\n",
    "    import subprocess\n",
    "\n",
    "    def run_and_log(cmd):\n",
    "        proc = subprocess.run(cmd, check=True, shell=True, encoding=\"utf-8\",\n",
    "                              stdout=subprocess.PIPE, stderr=subprocess.PIPE)\n",
    "        return dict(cmd=cmd,\n",
    "                    returncode=proc.returncode,\n",
    "                    stdout=proc.stdout,\n",
    "                    stderr=proc.stderr)\n",
    "\n",
    "    region = \"%s:%d-%d\" % roi\n",
    "\n",
    "    results = []\n",
    "    results.append(run_and_log(f\"gsutil cp {bam} ./in.bam\"))\n",
    "    results.append(run_and_log(f\"gsutil cp {bam}.bai ./in.bam.bai\"))\n",
    "    results.append(run_and_log(f\"gatk HaplotypeCaller -R {reference} -I in.bam -O out.vcf -L {region}\"))\n",
    "    results.append(run_and_log(f\"gsutil cp out.vcf {output_vcf}\"))\n",
    "    return results"
   ]
  },
  {
   "attachments": {},
   "cell_type": "markdown",
   "metadata": {},
   "source": [
    "## Execute pipeline"
   ]
  },
  {
   "cell_type": "code",
   "execution_count": 17,
   "metadata": {},
   "outputs": [],
   "source": [
    "\n",
    "reference=f\"/mnt/{reference_volume}/hg38/Homo_sapiens_assembly38.fasta\"\n",
    "sample_name=\"jared\"\n",
    "read_group=f'@RG\\\\tID:{sample_name}\\\\tSM:{sample_name}\\\\tPL:ILLUMINA'\n",
    "ROI = (\"chr1\", 14674463, 14697776)\n",
    "fq1 = \"gs://jared-genome/tiny_r1.fq\"\n",
    "fq2 = \"gs://jared-genome/tiny_r2.fq\"\n",
    "output_prefix = \"gs://jared-genome/sk8s/\"\n",
    "output_bam = f\"{output_prefix}tiny.bam\"\n",
    "output_vcf = f\"{output_prefix}tiny.vcf\""
   ]
  },
  {
   "cell_type": "code",
   "execution_count": 11,
   "metadata": {},
   "outputs": [
    {
     "data": {
      "text/plain": [
       "[{'cmd': 'gsutil -m cp gs://jared-genome/tiny_r1.fq ./fq1.fq',\n",
       "  'returncode': 0,\n",
       "  'stdout': '',\n",
       "  'stderr': 'Copying gs://jared-genome/tiny_r1.fq...\\n/ [0/1 files][    0.0 B/ 28.7 MiB]   0% Done                                    \\n-\\n- [1/1 files][ 28.7 MiB/ 28.7 MiB] 100% Done                                    \\nOperation completed over 1 objects/28.7 MiB.                                     \\n'},\n",
       " {'cmd': 'gsutil -m cp gs://jared-genome/tiny_r2.fq ./fq2.fq',\n",
       "  'returncode': 0,\n",
       "  'stdout': '',\n",
       "  'stderr': 'Copying gs://jared-genome/tiny_r2.fq...\\n/ [0/1 files][    0.0 B/ 28.7 MiB]   0% Done                                    \\n-\\n- [0/1 files][ 27.1 MiB/ 28.7 MiB]  94% Done                                    \\n\\\\\\n\\\\ [1/1 files][ 28.7 MiB/ 28.7 MiB] 100% Done                                    \\nOperation completed over 1 objects/28.7 MiB.                                     \\n'},\n",
       " {'cmd': 'bwa mem -R \"@RG\\\\tID:jared\\\\tSM:jared\\\\tPL:ILLUMINA\" /mnt/reference-volume/hg38/Homo_sapiens_assembly38.fasta fq1.fq fq2.fq | samtools sort > out.bam',\n",
       "  'returncode': 0,\n",
       "  'stdout': '',\n",
       "  'stderr': '[M::bwa_idx_load_from_disk] read 3171 ALT contigs\\n[M::process] read 100000 sequences (10000000 bp)...\\n[M::process] read 100000 sequences (10000000 bp)...\\n[M::mem_pestat] # candidate unique pairs for (FF, FR, RF, RR): (0, 46234, 0, 1)\\n[M::mem_pestat] skip orientation FF as there are not enough pairs\\n[M::mem_pestat] analyzing insert size distribution for orientation FR...\\n[M::mem_pestat] (25, 50, 75) percentile: (133, 166, 193)\\n[M::mem_pestat] low and high boundaries for computing mean and std.dev: (13, 313)\\n[M::mem_pestat] mean and std.dev: (159.03, 50.35)\\n[M::mem_pestat] low and high boundaries for proper pairs: (1, 373)\\n[M::mem_pestat] skip orientation RF as there are not enough pairs\\n[M::mem_pestat] skip orientation RR as there are not enough pairs\\n[M::mem_process_seqs] Processed 100000 reads in 26.969 CPU sec, 26.904 real sec\\n[M::process] read 47418 sequences (4741800 bp)...\\n[M::mem_pestat] # candidate unique pairs for (FF, FR, RF, RR): (0, 46331, 2, 0)\\n[M::mem_pestat] skip orientation FF as there are not enough pairs\\n[M::mem_pestat] analyzing insert size distribution for orientation FR...\\n[M::mem_pestat] (25, 50, 75) percentile: (132, 166, 193)\\n[M::mem_pestat] low and high boundaries for computing mean and std.dev: (10, 315)\\n[M::mem_pestat] mean and std.dev: (158.70, 50.75)\\n[M::mem_pestat] low and high boundaries for proper pairs: (1, 376)\\n[M::mem_pestat] skip orientation RF as there are not enough pairs\\n[M::mem_pestat] skip orientation RR as there are not enough pairs\\n[M::mem_process_seqs] Processed 100000 reads in 27.179 CPU sec, 27.033 real sec\\n[M::mem_pestat] # candidate unique pairs for (FF, FR, RF, RR): (0, 22025, 1, 0)\\n[M::mem_pestat] skip orientation FF as there are not enough pairs\\n[M::mem_pestat] analyzing insert size distribution for orientation FR...\\n[M::mem_pestat] (25, 50, 75) percentile: (133, 165, 192)\\n[M::mem_pestat] low and high boundaries for computing mean and std.dev: (15, 310)\\n[M::mem_pestat] mean and std.dev: (158.19, 49.66)\\n[M::mem_pestat] low and high boundaries for proper pairs: (1, 369)\\n[M::mem_pestat] skip orientation RF as there are not enough pairs\\n[M::mem_pestat] skip orientation RR as there are not enough pairs\\n[M::mem_process_seqs] Processed 47418 reads in 12.936 CPU sec, 12.827 real sec\\n[main] Version: 0.7.17-r1188\\n[main] CMD: bwa mem -R @RG\\\\tID:jared\\\\tSM:jared\\\\tPL:ILLUMINA /mnt/reference-volume/hg38/Homo_sapiens_assembly38.fasta fq1.fq fq2.fq\\n[main] Real time: 76.130 sec; CPU: 74.101 sec\\n'},\n",
       " {'cmd': 'samtools index out.bam',\n",
       "  'returncode': 0,\n",
       "  'stdout': '',\n",
       "  'stderr': ''},\n",
       " {'cmd': 'gsutil -m cp out.bam gs://jared-genome/sk8s/tiny.bam',\n",
       "  'returncode': 0,\n",
       "  'stdout': '',\n",
       "  'stderr': 'Copying file://out.bam [Content-Type=application/octet-stream]...\\n/ [0/1 files][    0.0 B/ 14.9 MiB]   0% Done                                    \\n-\\n- [1/1 files][ 14.9 MiB/ 14.9 MiB] 100% Done                                    \\nOperation completed over 1 objects/14.9 MiB.                                     \\n'},\n",
       " {'cmd': 'gsutil -m cp out.bam.bai gs://jared-genome/sk8s/tiny.bam.bai',\n",
       "  'returncode': 0,\n",
       "  'stdout': '',\n",
       "  'stderr': 'Copying file://out.bam.bai [Content-Type=application/octet-stream]...\\n/ [0/1 files][    0.0 B/  1.4 MiB]   0% Done                                    \\n/ [1/1 files][  1.4 MiB/  1.4 MiB] 100% Done                                    \\nOperation completed over 1 objects/1.4 MiB.                                      \\n'}]"
      ]
     },
     "execution_count": 11,
     "metadata": {},
     "output_type": "execute_result"
    }
   ],
   "source": [
    "\n",
    "alignment_result = sk8s.run(align, fq1, fq2, output_bam, reference, read_group,\n",
    "                            image=image, volumes=[reference_volume],\n",
    "                            requests={\"memory\": \"16Gi\", \"ephemeral-storage\": \"10Gi\", \"cpu\": \"1\"},\n",
    "                            limits={\"memory\": \"16Gi\", \"ephemeral-storage\": \"10Gi\"},\n",
    "                            asynchro=False)\n",
    "alignment_result"
   ]
  },
  {
   "cell_type": "code",
   "execution_count": 18,
   "metadata": {},
   "outputs": [
    {
     "data": {
      "text/plain": [
       "[{'cmd': 'gsutil cp gs://jared-genome/sk8s/tiny.bam ./in.bam',\n",
       "  'returncode': 0,\n",
       "  'stdout': '',\n",
       "  'stderr': 'Copying gs://jared-genome/sk8s/tiny.bam...\\n/ [0 files][    0.0 B/ 14.9 MiB]                                                \\n-\\n- [1 files][ 14.9 MiB/ 14.9 MiB]                                                \\nOperation completed over 1 objects/14.9 MiB.                                     \\n'},\n",
       " {'cmd': 'gsutil cp gs://jared-genome/sk8s/tiny.bam.bai ./in.bam.bai',\n",
       "  'returncode': 0,\n",
       "  'stdout': '',\n",
       "  'stderr': 'Copying gs://jared-genome/sk8s/tiny.bam.bai...\\n/ [0 files][    0.0 B/  1.4 MiB]                                                \\n/ [1 files][  1.4 MiB/  1.4 MiB]                                                \\nOperation completed over 1 objects/1.4 MiB.                                      \\n'},\n",
       " {'cmd': 'gatk HaplotypeCaller -R /mnt/reference-volume/hg38/Homo_sapiens_assembly38.fasta -I in.bam -O out.vcf -L chr1:14674463-14697776',\n",
       "  'returncode': 0,\n",
       "  'stdout': '',\n",
       "  'stderr': 'Using GATK jar /opt/conda/share/gatk4-4.4.0.0-0/gatk-package-4.4.0.0-local.jar\\nRunning:\\n    java -Dsamjdk.use_async_io_read_samtools=false -Dsamjdk.use_async_io_write_samtools=true -Dsamjdk.use_async_io_write_tribble=false -Dsamjdk.compression_level=2 -jar /opt/conda/share/gatk4-4.4.0.0-0/gatk-package-4.4.0.0-local.jar HaplotypeCaller -R /mnt/reference-volume/hg38/Homo_sapiens_assembly38.fasta -I in.bam -O out.vcf -L chr1:14674463-14697776\\n06:16:59.560 INFO  NativeLibraryLoader - Loading libgkl_compression.so from jar:file:/opt/conda/share/gatk4-4.4.0.0-0/gatk-package-4.4.0.0-local.jar!/com/intel/gkl/native/libgkl_compression.so\\n06:16:59.735 INFO  HaplotypeCaller - ------------------------------------------------------------\\n06:16:59.739 INFO  HaplotypeCaller - The Genome Analysis Toolkit (GATK) v4.4.0.0\\n06:16:59.739 INFO  HaplotypeCaller - For support and documentation go to https://software.broadinstitute.org/gatk/\\n06:16:59.739 INFO  HaplotypeCaller - Executing as root@job-dwnwa-7n5cd on Linux v5.10.162+ amd64\\n06:16:59.740 INFO  HaplotypeCaller - Java runtime: OpenJDK 64-Bit Server VM v17.0.3-internal+0-adhoc..src\\n06:16:59.740 INFO  HaplotypeCaller - Start Date/Time: April 25, 2023 at 6:16:59 AM UTC\\n06:16:59.740 INFO  HaplotypeCaller - ------------------------------------------------------------\\n06:16:59.740 INFO  HaplotypeCaller - ------------------------------------------------------------\\n06:16:59.741 INFO  HaplotypeCaller - HTSJDK Version: 3.0.5\\n06:16:59.741 INFO  HaplotypeCaller - Picard Version: 3.0.0\\n06:16:59.741 INFO  HaplotypeCaller - Built for Spark Version: 3.3.1\\n06:16:59.742 INFO  HaplotypeCaller - HTSJDK Defaults.COMPRESSION_LEVEL : 2\\n06:16:59.742 INFO  HaplotypeCaller - HTSJDK Defaults.USE_ASYNC_IO_READ_FOR_SAMTOOLS : false\\n06:16:59.742 INFO  HaplotypeCaller - HTSJDK Defaults.USE_ASYNC_IO_WRITE_FOR_SAMTOOLS : true\\n06:16:59.742 INFO  HaplotypeCaller - HTSJDK Defaults.USE_ASYNC_IO_WRITE_FOR_TRIBBLE : false\\n06:16:59.743 INFO  HaplotypeCaller - Deflater: IntelDeflater\\n06:16:59.743 INFO  HaplotypeCaller - Inflater: IntelInflater\\n06:16:59.743 INFO  HaplotypeCaller - GCS max retries/reopens: 20\\n06:16:59.743 INFO  HaplotypeCaller - Requester pays: disabled\\n06:16:59.744 INFO  HaplotypeCaller - Initializing engine\\n06:17:00.358 INFO  IntervalArgumentCollection - Processing 23314 bp from intervals\\n06:17:00.373 INFO  HaplotypeCaller - Done initializing engine\\n06:17:00.534 INFO  HaplotypeCallerEngine - Disabling physical phasing, which is supported only for reference-model confidence output\\n06:17:00.549 INFO  NativeLibraryLoader - Loading libgkl_utils.so from jar:file:/opt/conda/share/gatk4-4.4.0.0-0/gatk-package-4.4.0.0-local.jar!/com/intel/gkl/native/libgkl_utils.so\\n06:17:00.551 INFO  NativeLibraryLoader - Loading libgkl_pairhmm_omp.so from jar:file:/opt/conda/share/gatk4-4.4.0.0-0/gatk-package-4.4.0.0-local.jar!/com/intel/gkl/native/libgkl_pairhmm_omp.so\\n06:17:00.569 INFO  IntelPairHmm - Flush-to-zero (FTZ) is enabled when running PairHMM\\n06:17:00.570 INFO  IntelPairHmm - Available threads: 4\\n06:17:00.570 INFO  IntelPairHmm - Requested threads: 4\\n06:17:00.570 INFO  PairHMM - Using the OpenMP multi-threaded AVX-accelerated native PairHMM implementation\\n06:17:00.690 INFO  ProgressMeter - Starting traversal\\n06:17:00.691 INFO  ProgressMeter -        Current Locus  Elapsed Minutes     Regions Processed   Regions/Minute\\n06:17:01.517 WARN  InbreedingCoeff - InbreedingCoeff will not be calculated at position chr1:14674841 and possibly subsequent; at least 10 samples must have called genotypes\\n06:17:06.293 INFO  HaplotypeCaller - 10 read(s) filtered by: MappingQualityReadFilter \\n0 read(s) filtered by: MappingQualityAvailableReadFilter \\n0 read(s) filtered by: MappedReadFilter \\n0 read(s) filtered by: NotSecondaryAlignmentReadFilter \\n0 read(s) filtered by: NotDuplicateReadFilter \\n0 read(s) filtered by: PassesVendorQualityCheckReadFilter \\n0 read(s) filtered by: NonZeroReferenceLengthAlignmentReadFilter \\n0 read(s) filtered by: GoodCigarReadFilter \\n0 read(s) filtered by: WellformedReadFilter \\n10 total reads filtered out of 6136 reads processed\\n06:17:06.295 INFO  ProgressMeter -        chr1:14696493              0.1                   139           1488.8\\n06:17:06.295 INFO  ProgressMeter - Traversal complete. Processed 139 total regions in 0.1 minutes.\\n06:17:06.316 INFO  VectorLoglessPairHMM - Time spent in setup for JNI call : 0.006342936\\n06:17:06.316 INFO  PairHMM - Total compute time in PairHMM computeLogLikelihoods() : 0.605925954\\n06:17:06.317 INFO  SmithWatermanAligner - Total compute time in java Smith-Waterman : 0.26 sec\\n06:17:06.318 INFO  HaplotypeCaller - Shutting down engine\\n[April 25, 2023 at 6:17:06 AM UTC] org.broadinstitute.hellbender.tools.walkers.haplotypecaller.HaplotypeCaller done. Elapsed time: 0.11 minutes.\\nRuntime.totalMemory()=239075328\\n'},\n",
       " {'cmd': 'gsutil cp out.vcf gs://jared-genome/sk8s/tiny.vcf',\n",
       "  'returncode': 0,\n",
       "  'stdout': '',\n",
       "  'stderr': 'Copying file://out.vcf [Content-Type=text/vcard]...\\n/ [0 files][    0.0 B/185.5 KiB]                                                \\n/ [1 files][185.5 KiB/185.5 KiB]                                                \\nOperation completed over 1 objects/185.5 KiB.                                    \\n'}]"
      ]
     },
     "execution_count": 18,
     "metadata": {},
     "output_type": "execute_result"
    }
   ],
   "source": [
    "snp_result = sk8s.run(call_snps, reference, output_bam, ROI, output_vcf,\n",
    "                       image=image, asynchro=False, volumes=[reference_volume],\n",
    "                       requests={\"memory\": \"8Gi\", \"ephemeral-storage\": \"10Gi\", \"cpu\": \"2\"},\n",
    "                       limits={\"memory\": \"8Gi\", \"ephemeral-storage\": \"10Gi\"})\n",
    "snp_result"
   ]
  },
  {
   "cell_type": "code",
   "execution_count": 19,
   "metadata": {},
   "outputs": [
    {
     "name": "stdout",
     "output_type": "stream",
     "text": [
      "chr1\t14674841\t.\tT\tC\t306.64\t.\tAC=1;AF=0.500;AN=2;BaseQRankSum=0.421;DP=26;ExcessHet=0.0000;FS=10.037;MLEAC=1;MLEAF=0.500;MQ=60.00;MQRankSum=0.000;QD=12.27;ReadPosRankSum=-0.849;SOR=2.461\tGT:AD:DP:GQ:PL\t0/1:14,11:25:99:314,0,393\n",
      "chr1\t14674953\t.\tT\tTTTTTA\t553.60\t.\tAC=1;AF=0.500;AN=2;BaseQRankSum=1.183;DP=23;ExcessHet=0.0000;FS=3.796;MLEAC=1;MLEAF=0.500;MQ=60.00;MQRankSum=0.000;QD=24.07;ReadPosRankSum=-0.601;SOR=1.245\tGT:AD:DP:GQ:PL\t0/1:9,14:23:99:561,0,336\n",
      "chr1\t14674974\t.\tA\tG\t673.64\t.\tAC=1;AF=0.500;AN=2;BaseQRankSum=0.058;DP=28;ExcessHet=0.0000;FS=0.000;MLEAC=1;MLEAF=0.500;MQ=60.00;MQRankSum=0.000;QD=24.06;ReadPosRankSum=0.000;SOR=0.646\tGT:AD:DP:GQ:PL\t0/1:11,17:28:99:681,0,411\n",
      "chr1\t14674984\t.\tT\tC\t631.64\t.\tAC=1;AF=0.500;AN=2;BaseQRankSum=-0.679;DP=28;ExcessHet=0.0000;FS=1.540;MLEAC=1;MLEAF=0.500;MQ=60.00;MQRankSum=0.000;QD=24.29;ReadPosRankSum=0.053;SOR=0.412\tGT:AD:DP:GQ:PL\t0/1:10,16:26:99:639,0,372\n",
      "chr1\t14675235\t.\tG\tT\t913.06\t.\tAC=2;AF=1.00;AN=2;DP=30;ExcessHet=0.0000;FS=0.000;MLEAC=2;MLEAF=1.00;MQ=60.00;QD=32.61;SOR=0.997\tGT:AD:DP:GQ:PL\t1/1:0,28:28:83:927,83,0\n",
      "chr1\t14675321\t.\tA\tG\t391.64\t.\tAC=1;AF=0.500;AN=2;BaseQRankSum=1.282;DP=28;ExcessHet=0.0000;FS=1.527;MLEAC=1;MLEAF=0.500;MQ=60.00;MQRankSum=0.000;QD=14.51;ReadPosRankSum=1.630;SOR=1.179\tGT:AD:DP:GQ:PL\t0/1:14,13:27:99:399,0,366\n",
      "chr1\t14676317\t.\tC\tT\t625.64\t.\tAC=1;AF=0.500;AN=2;BaseQRankSum=-0.628;DP=40;ExcessHet=0.0000;FS=0.000;MLEAC=1;MLEAF=0.500;MQ=60.00;MQRankSum=0.000;QD=16.46;ReadPosRankSum=0.529;SOR=0.862\tGT:AD:DP:GQ:PL\t0/1:17,21:38:99:633,0,529\n",
      "chr1\t14676423\t.\tA\tACGT\t416.60\t.\tAC=1;AF=0.500;AN=2;BaseQRankSum=-0.166;DP=23;ExcessHet=0.0000;FS=0.000;MLEAC=1;MLEAF=0.500;MQ=60.00;MQRankSum=0.000;QD=23.14;ReadPosRankSum=0.544;SOR=0.495\tGT:AD:DP:GQ:PL\t0/1:7,11:18:99:424,0,261\n",
      "chr1\t14676445\t.\tG\tA\t261.64\t.\tAC=1;AF=0.500;AN=2;BaseQRankSum=-2.185;DP=17;ExcessHet=0.0000;FS=0.000;MLEAC=1;MLEAF=0.500;MQ=60.00;MQRankSum=0.000;QD=16.35;ReadPosRankSum=-0.544;SOR=0.534\tGT:AD:DP:GQ:PL\t0/1:6,10:16:99:269,0,209\n",
      "chr1\t14676462\t.\tG\tA\t245.64\t.\tAC=1;AF=0.500;AN=2;BaseQRankSum=-0.543;DP=15;ExcessHet=0.0000;FS=0.000;MLEAC=1;MLEAF=0.500;MQ=60.00;MQRankSum=0.000;QD=16.38;ReadPosRankSum=-1.155;SOR=0.418\tGT:AD:DP:GQ:PL\t0/1:6,9:15:99:253,0,175\n",
      "\n"
     ]
    }
   ],
   "source": [
    "import subprocess\n",
    "print(subprocess.run(f\"gsutil cat {output_vcf} | grep -v '^#' | head -n10\",\n",
    "               shell=True, stdout=subprocess.PIPE, encoding=\"utf-8\").stdout)"
   ]
  }
 ],
 "metadata": {
  "kernelspec": {
   "display_name": "jobs",
   "language": "python",
   "name": "python3"
  },
  "language_info": {
   "codemirror_mode": {
    "name": "ipython",
    "version": 3
   },
   "file_extension": ".py",
   "mimetype": "text/x-python",
   "name": "python",
   "nbconvert_exporter": "python",
   "pygments_lexer": "ipython3",
   "version": "3.10.10"
  },
  "orig_nbformat": 4
 },
 "nbformat": 4,
 "nbformat_minor": 2
}
