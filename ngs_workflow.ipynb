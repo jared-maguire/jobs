{
 "cells": [
  {
   "cell_type": "code",
   "execution_count": 1,
   "metadata": {},
   "outputs": [],
   "source": [
    "import sk8s"
   ]
  },
  {
   "cell_type": "code",
   "execution_count": 2,
   "metadata": {},
   "outputs": [
    {
     "data": {
      "text/plain": [
       "'gcr.io/jared-genome-analysis/ngs-1'"
      ]
     },
     "execution_count": 2,
     "metadata": {},
     "output_type": "execute_result"
    }
   ],
   "source": [
    "image = sk8s.docker_build(image_name=\"ngs-1\",\n",
    "                          conda=[\"bwa\", \"gatk4\", \"samtools\", \"google-cloud-sdk\"],\n",
    "                          channels=[\"conda-forge\", \"bioconda\"],\n",
    "                          pip=[\"numpy\", \"scipy\", \"matplotlib\", \"pandas\"],\n",
    "                          additional_config=\"RUN apt-get install -y gcc python3-dev python3-setuptools && pip3 uninstall crcmod && pip3 install --no-cache-dir -U crcmod\")\n",
    "    \n",
    "image"
   ]
  },
  {
   "cell_type": "code",
   "execution_count": 3,
   "metadata": {},
   "outputs": [
    {
     "data": {
      "text/plain": [
       "'reference-volume'"
      ]
     },
     "execution_count": 3,
     "metadata": {},
     "output_type": "execute_result"
    }
   ],
   "source": [
    "# Create a volume to store the reference\n",
    "reference_volume = sk8s.create_volume(\"100Gi\", name=\"reference-volume\")\n",
    "reference_volume"
   ]
  },
  {
   "cell_type": "code",
   "execution_count": 5,
   "metadata": {},
   "outputs": [],
   "source": [
    "def populate_reference_volume(volume):\n",
    "    import subprocess\n",
    "\n",
    "    def run_silent(cmd):\n",
    "        return subprocess.run(cmd, check=True, shell=True,\n",
    "                              stdout=subprocess.PIPE,\n",
    "                              stderr=subprocess.PIPE)\n",
    "\n",
    "    #result = run_silent(f\"\"\"mkdir -p /mnt/{volume}/hg38/ && gsutil -m rsync -r gs://genomics-public-data/references/hg38/v0/ /mnt/{volume}/hg38/\"\"\")\n",
    "    result = run_silent(f\"\"\"mkdir -p /mnt/{volume}/hg38/\"\"\")\n",
    "    result = run_silent(f\"\"\"gsutil -m rsync -r  gs://jared-genome/ref/GRCh38/ /mnt/{volume}/hg38/\"\"\")\n",
    "    return \"OK\"\n",
    "\n",
    "result = sk8s.run(populate_reference_volume, reference_volume,\n",
    "                  volumes=[reference_volume],\n",
    "                  image=image,\n",
    "                  asynchro=False)"
   ]
  },
  {
   "cell_type": "code",
   "execution_count": 6,
   "metadata": {},
   "outputs": [
    {
     "name": "stdout",
     "output_type": "stream",
     "text": [
      "OK\n"
     ]
    }
   ],
   "source": [
    "print(result)"
   ]
  },
  {
   "cell_type": "code",
   "execution_count": 13,
   "metadata": {},
   "outputs": [
    {
     "data": {
      "text/plain": [
       "[{'cmd': 'gsutil -m cp gs://jared-genome/tiny_r1.fq ./fq1.fq',\n",
       "  'returncode': 0,\n",
       "  'stdout': '',\n",
       "  'stderr': 'Copying gs://jared-genome/tiny_r1.fq...\\n/ [0/1 files][    0.0 B/ 28.7 MiB]   0% Done                                    \\n-\\n- [0/1 files][ 22.7 MiB/ 28.7 MiB]  78% Done                                    \\n- [1/1 files][ 28.7 MiB/ 28.7 MiB] 100% Done                                    \\n\\\\\\nOperation completed over 1 objects/28.7 MiB.                                     \\n'},\n",
       " {'cmd': 'gsutil -m cp gs://jared-genome/tiny_r2.fq ./fq2.fq',\n",
       "  'returncode': 0,\n",
       "  'stdout': '',\n",
       "  'stderr': 'Copying gs://jared-genome/tiny_r2.fq...\\n/ [0/1 files][    0.0 B/ 28.7 MiB]   0% Done                                    \\n-\\n- [0/1 files][ 12.9 MiB/ 28.7 MiB]  44% Done                                    \\n\\\\\\n\\\\ [1/1 files][ 28.7 MiB/ 28.7 MiB] 100% Done                                    \\nOperation completed over 1 objects/28.7 MiB.                                     \\n'},\n",
       " {'cmd': 'bwa mem /mnt/reference-volume/hg38/Homo_sapiens_assembly38.fasta fq1.fq fq2.fq | samtools sort > out.bam',\n",
       "  'returncode': 0,\n",
       "  'stdout': '',\n",
       "  'stderr': '[M::bwa_idx_load_from_disk] read 3171 ALT contigs\\n[M::process] read 100000 sequences (10000000 bp)...\\n[M::process] read 100000 sequences (10000000 bp)...\\n[M::mem_pestat] # candidate unique pairs for (FF, FR, RF, RR): (0, 46234, 0, 1)\\n[M::mem_pestat] skip orientation FF as there are not enough pairs\\n[M::mem_pestat] analyzing insert size distribution for orientation FR...\\n[M::mem_pestat] (25, 50, 75) percentile: (133, 166, 193)\\n[M::mem_pestat] low and high boundaries for computing mean and std.dev: (13, 313)\\n[M::mem_pestat] mean and std.dev: (159.03, 50.35)\\n[M::mem_pestat] low and high boundaries for proper pairs: (1, 373)\\n[M::mem_pestat] skip orientation RF as there are not enough pairs\\n[M::mem_pestat] skip orientation RR as there are not enough pairs\\n[M::mem_process_seqs] Processed 100000 reads in 27.794 CPU sec, 27.717 real sec\\n[M::process] read 47418 sequences (4741800 bp)...\\n[M::mem_pestat] # candidate unique pairs for (FF, FR, RF, RR): (0, 46331, 2, 0)\\n[M::mem_pestat] skip orientation FF as there are not enough pairs\\n[M::mem_pestat] analyzing insert size distribution for orientation FR...\\n[M::mem_pestat] (25, 50, 75) percentile: (132, 166, 193)\\n[M::mem_pestat] low and high boundaries for computing mean and std.dev: (10, 315)\\n[M::mem_pestat] mean and std.dev: (158.70, 50.75)\\n[M::mem_pestat] low and high boundaries for proper pairs: (1, 376)\\n[M::mem_pestat] skip orientation RF as there are not enough pairs\\n[M::mem_pestat] skip orientation RR as there are not enough pairs\\n[M::mem_process_seqs] Processed 100000 reads in 27.776 CPU sec, 27.632 real sec\\n[M::mem_pestat] # candidate unique pairs for (FF, FR, RF, RR): (0, 22025, 1, 0)\\n[M::mem_pestat] skip orientation FF as there are not enough pairs\\n[M::mem_pestat] analyzing insert size distribution for orientation FR...\\n[M::mem_pestat] (25, 50, 75) percentile: (133, 165, 192)\\n[M::mem_pestat] low and high boundaries for computing mean and std.dev: (15, 310)\\n[M::mem_pestat] mean and std.dev: (158.19, 49.66)\\n[M::mem_pestat] low and high boundaries for proper pairs: (1, 369)\\n[M::mem_pestat] skip orientation RF as there are not enough pairs\\n[M::mem_pestat] skip orientation RR as there are not enough pairs\\n[M::mem_process_seqs] Processed 47418 reads in 13.312 CPU sec, 13.190 real sec\\n[main] Version: 0.7.17-r1188\\n[main] CMD: bwa mem /mnt/reference-volume/hg38/Homo_sapiens_assembly38.fasta fq1.fq fq2.fq\\n[main] Real time: 87.025 sec; CPU: 76.275 sec\\n'},\n",
       " {'cmd': 'samtools index out.bam',\n",
       "  'returncode': 0,\n",
       "  'stdout': '',\n",
       "  'stderr': ''},\n",
       " {'cmd': 'gsutil -m cp out.bam {output_prefix}tiny.bam',\n",
       "  'returncode': 0,\n",
       "  'stdout': '',\n",
       "  'stderr': 'Copying file://out.bam...\\n/ [0/1 files][    0.0 B/ 14.8 MiB]   0% Done                                    \\n/ [1/1 files][ 14.8 MiB/ 14.8 MiB] 100% Done                                    \\nOperation completed over 1 objects/14.8 MiB.                                     \\n'},\n",
       " {'cmd': 'gsutil -m cp out.bam.bai {output_prefix}tiny.bam.bai',\n",
       "  'returncode': 0,\n",
       "  'stdout': '',\n",
       "  'stderr': 'Copying file://out.bam.bai...\\n/ [0/1 files][    0.0 B/  1.4 MiB]   0% Done                                    \\n/ [1/1 files][  1.4 MiB/  1.4 MiB] 100% Done                                    \\nOperation completed over 1 objects/1.4 MiB.                                      \\n'}]"
      ]
     },
     "execution_count": 13,
     "metadata": {},
     "output_type": "execute_result"
    }
   ],
   "source": [
    "def align(fq1, fq2, output_bam, reference=f\"/mnt/{reference_volume}/hg38/Homo_sapiens_assembly38.fasta\"):\n",
    "    import subprocess\n",
    "\n",
    "    def run_and_log(cmd):\n",
    "        proc = subprocess.run(cmd, check=True, shell=True, encoding=\"utf-8\",\n",
    "                              stdout=subprocess.PIPE, stderr=subprocess.PIPE)\n",
    "        return dict(cmd=cmd,\n",
    "                    returncode=proc.returncode,\n",
    "                    stdout=proc.stdout,\n",
    "                    stderr=proc.stderr)\n",
    "\n",
    "    results = []\n",
    "    results.append(run_and_log(f\"gsutil -m cp {fq1} ./fq1.fq\"))\n",
    "    results.append(run_and_log(f\"gsutil -m cp {fq2} ./fq2.fq\"))\n",
    "    results.append(run_and_log(f\"bwa mem {reference} fq1.fq fq2.fq | samtools sort > out.bam\"))\n",
    "    results.append(run_and_log(f\"samtools index out.bam\"))\n",
    "    results.append(run_and_log(f\"gsutil -m cp out.bam {output_bam}\"))\n",
    "    results.append(run_and_log(f\"gsutil -m cp out.bam.bai {output_bam}.bai\"))\n",
    "\n",
    "    return results\n",
    "\n",
    "fq1 = \"gs://jared-genome/tiny_r1.fq\"\n",
    "fq2 = \"gs://jared-genome/tiny_r2.fq\"\n",
    "\n",
    "output_prefix = \"gs://jared-genome/sk8s/\"\n",
    "output_bam = f\"{output_prefix}tiny.bam\"\n",
    "\n",
    "alignment_result = sk8s.run(align, fq1, fq2, output_bam,\n",
    "                            image=image, volumes=[reference_volume],\n",
    "                            requests={\"memory\": \"16Gi\", \"ephemeral-storage\": \"100Gi\", \"cpu\": \"8\"},\n",
    "                            limits={\"memory\": \"16Gi\", \"ephemeral-storage\": \"100Gi\"},\n",
    "                            asynchro=False)\n",
    "alignment_result"
   ]
  },
  {
   "cell_type": "code",
   "execution_count": 16,
   "metadata": {},
   "outputs": [
    {
     "name": "stdout",
     "output_type": "stream",
     "text": [
      "Copying file://out.bam...\n",
      "/ [0/1 files][    0.0 B/ 14.8 MiB]   0% Done                                    \n",
      "/ [1/1 files][ 14.8 MiB/ 14.8 MiB] 100% Done                                    \n",
      "Operation completed over 1 objects/14.8 MiB.                                     \n",
      "\n"
     ]
    }
   ],
   "source": [
    "print(alignment_result[-2][\"stderr\"])"
   ]
  }
 ],
 "metadata": {
  "kernelspec": {
   "display_name": "jobs",
   "language": "python",
   "name": "python3"
  },
  "language_info": {
   "codemirror_mode": {
    "name": "ipython",
    "version": 3
   },
   "file_extension": ".py",
   "mimetype": "text/x-python",
   "name": "python",
   "nbconvert_exporter": "python",
   "pygments_lexer": "ipython3",
   "version": "3.10.10"
  },
  "orig_nbformat": 4
 },
 "nbformat": 4,
 "nbformat_minor": 2
}
