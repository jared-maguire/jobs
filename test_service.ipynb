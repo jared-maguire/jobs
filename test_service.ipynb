{
 "cells": [
  {
   "cell_type": "code",
   "execution_count": 1,
   "metadata": {},
   "outputs": [],
   "source": [
    "import sk8s\n",
    "import sk8s.datastore"
   ]
  },
  {
   "cell_type": "code",
   "execution_count": 2,
   "metadata": {},
   "outputs": [
    {
     "data": {
      "text/plain": [
       "'http://service-bkuvu.sk8s.svc.cluster.local:5000'"
      ]
     },
     "execution_count": 2,
     "metadata": {},
     "output_type": "execute_result"
    }
   ],
   "source": [
    "def datastore_service():\n",
    "    import sk8s.datastore as ds\n",
    "    datastore = ds.Datastore()\n",
    "    datastore.run()\n",
    "\n",
    "service = sk8s.services.service(datastore_service)\n",
    "service"
   ]
  },
  {
   "cell_type": "code",
   "execution_count": 4,
   "metadata": {},
   "outputs": [
    {
     "name": "stdout",
     "output_type": "stream",
     "text": [
      "kubectl port-forward service/service-bkuvu 10777:5000\n",
      "<Popen: returncode: None args: 'kubectl port-forward service/service-bkuvu 1...>\n"
     ]
    },
    {
     "data": {
      "text/plain": [
       "'http://localhost:10777/'"
      ]
     },
     "execution_count": 4,
     "metadata": {},
     "output_type": "execute_result"
    }
   ],
   "source": [
    "import re, numpy, subprocess\n",
    "\n",
    "service_name = re.search(\"://(.*?)\\.\", service).groups()[0]\n",
    "remote_port = 5000\n",
    "local_port = int(numpy.random.rand() * 10000 + 10000)\n",
    "cmd = f\"kubectl port-forward service/{service_name} {local_port}:{remote_port}\"\n",
    "print(cmd)\n",
    "\n",
    "result = subprocess.Popen(cmd, shell=True, stdout=subprocess.PIPE, stderr=subprocess.STDOUT)\n",
    "print(result)\n",
    "local_url = f\"http://localhost:{local_port}/\"\n",
    "local_url"
   ]
  },
  {
   "cell_type": "code",
   "execution_count": 5,
   "metadata": {},
   "outputs": [
    {
     "data": {
      "text/plain": [
       "{}"
      ]
     },
     "execution_count": 5,
     "metadata": {},
     "output_type": "execute_result"
    }
   ],
   "source": [
    "sk8s.datastore.get(local_url)"
   ]
  },
  {
   "cell_type": "code",
   "execution_count": null,
   "metadata": {},
   "outputs": [],
   "source": [
    "import itertools\n",
    "\n",
    "def run_with_logging(func, *args, name=\"job-{s}\", results_url=None, **kwargs):\n",
    "\n",
    "    if results_url is None:\n",
    "        raise RuntimeError(\"results_url is None\")\n",
    "\n",
    "    s = sk8s.util.random_string(5)\n",
    "    job = name.format(s=s)\n",
    "\n",
    "    def logging_wrapper(func, *args, job_name=job, results_url=results_url):\n",
    "        import sk8s.datastore\n",
    "        import json\n",
    "        result = func(*args)\n",
    "        sk8s.datastore.put(results_url, job_name, result)\n",
    "        return result\n",
    "\n",
    "    return sk8s.run(lambda: logging_wrapper(func, *args), name=job, **kwargs)\n",
    "\n",
    "\n",
    "def multiwait_with_logging(jobs, results_url, *args, **kwargs):\n",
    "    results = [None]\n",
    "    while None in results:\n",
    "        status = sk8s.datastore.get(results_url)\n",
    "        results = [status.get(job, default=None) for job in jobs]\n",
    "    return results\n",
    "\n",
    "\n",
    "def map_with_logging(func, iterable, results_url=None, **kwargs):\n",
    "    jobs = list(map(lambda arg: run_with_logging(func, arg, results_url=results_url),\n",
    "                    iterable))\n",
    "    if kwargs.get(\"asynchro\", False) == True:\n",
    "        return jobs\n",
    "    else:\n",
    "        return multiwait_with_logging(jobs, results_url)\n",
    "    \n",
    "\n",
    "\n",
    "def func(n):\n",
    "    import time\n",
    "    time.sleep(5)\n",
    "    return n * 2\n",
    "\n",
    "\n",
    "jobs = map_with_logging(func, range(100), results_url=service, asynchro=True)"
   ]
  },
  {
   "cell_type": "code",
   "execution_count": null,
   "metadata": {},
   "outputs": [],
   "source": [
    "results = sk8s.run(sk8s.datastore.get, service, asynchro=False)"
   ]
  },
  {
   "cell_type": "code",
   "execution_count": null,
   "metadata": {},
   "outputs": [],
   "source": [
    "results"
   ]
  }
 ],
 "metadata": {
  "kernelspec": {
   "display_name": "jobs",
   "language": "python",
   "name": "python3"
  },
  "language_info": {
   "codemirror_mode": {
    "name": "ipython",
    "version": 3
   },
   "file_extension": ".py",
   "mimetype": "text/x-python",
   "name": "python",
   "nbconvert_exporter": "python",
   "pygments_lexer": "ipython3",
   "version": "3.10.10"
  },
  "orig_nbformat": 4
 },
 "nbformat": 4,
 "nbformat_minor": 2
}
