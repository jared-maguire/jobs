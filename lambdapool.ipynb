{
 "cells": [
  {
   "cell_type": "code",
   "execution_count": 1,
   "metadata": {},
   "outputs": [],
   "source": [
    "import dill as pickle\n",
    "import sk8s\n",
    "from flask import Flask, request\n",
    "import json\n",
    "import queue\n",
    "import threading\n",
    "\n",
    "import base64\n",
    "import sys\n",
    "\n",
    "\n",
    "def worker_thread(jobs, results):\n",
    "    while True:\n",
    "        name, func = jobs.get()\n",
    "        results[name] = func()\n",
    "\n",
    "    \n",
    "class LambdaWorker:\n",
    "    def __init__(self):\n",
    "        self.app = Flask(__name__)\n",
    "\n",
    "        self.queue = queue.Queue()\n",
    "        self.results = dict()\n",
    "        self.worker = threading.Thread(target=worker_thread,\n",
    "                                       args=[self.queue, self.results])\n",
    "\n",
    "        self.app.add_url_rule('/enqueue', 'enqueue', self.enqueue, methods=[\"POST\"])\n",
    "        self.app.add_url_rule('/check/<task_id>', 'check', self.check, methods=[\"GET\"])\n",
    "        self.app.add_url_rule('/echo/<msg>', 'echo', self.echo, methods=[\"GET\"])\n",
    "        self.app.add_url_rule('/shutdown', 'shutdown', self.shutdown, methods=[\"GET\"])\n",
    "\n",
    "    def enqueue(self):\n",
    "        func = sk8s.deserialize_func(json.loads(request.data))\n",
    "        task_id = \"lambda-{s}\".format(s=sk8s.random_string(5))\n",
    "        self.queue.put((task_id, func))\n",
    "        return task_id\n",
    "\n",
    "    def check(self, task_id):\n",
    "        return json.dumps(self.results.get(task_id, None))\n",
    "\n",
    "    def echo(self, msg):\n",
    "        return json.dumps(msg)\n",
    "\n",
    "    def shutdown(self):\n",
    "        func = request.environ.get('werkzeug.server.shutdown')\n",
    "        self.running = False\n",
    "        if func is None:\n",
    "            raise RuntimeError('Not running with the Werkzeug Server')\n",
    "        func()\n",
    "    \n",
    "    def run(self):\n",
    "        self.running = True\n",
    "        self.worker.start()\n",
    "        return self.app.run(host=\"0.0.0.0\")\n"
   ]
  },
  {
   "cell_type": "code",
   "execution_count": 2,
   "metadata": {},
   "outputs": [],
   "source": [
    "worker = LambdaWorker()\n",
    "\n",
    "\n",
    "#import threading\n",
    "#thread = threading.Thread(target=pool.run, args=[])\n",
    "#thread.start()"
   ]
  },
  {
   "cell_type": "code",
   "execution_count": null,
   "metadata": {},
   "outputs": [],
   "source": []
  }
 ],
 "metadata": {
  "kernelspec": {
   "display_name": "jobs",
   "language": "python",
   "name": "python3"
  },
  "language_info": {
   "codemirror_mode": {
    "name": "ipython",
    "version": 3
   },
   "file_extension": ".py",
   "mimetype": "text/x-python",
   "name": "python",
   "nbconvert_exporter": "python",
   "pygments_lexer": "ipython3",
   "version": "3.10.10"
  },
  "orig_nbformat": 4
 },
 "nbformat": 4,
 "nbformat_minor": 2
}
